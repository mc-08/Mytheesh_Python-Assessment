{
 "cells": [
  {
   "cell_type": "code",
   "execution_count": 1,
   "id": "a618c8b3",
   "metadata": {},
   "outputs": [],
   "source": [
    "import numpy as np\n",
    "import matplotlib.pyplot as plt\n",
    "import pandas as pd"
   ]
  },
  {
   "cell_type": "code",
   "execution_count": 73,
   "id": "8e7c52e5",
   "metadata": {},
   "outputs": [
    {
     "name": "stdout",
     "output_type": "stream",
     "text": [
      "Positive:\n",
      " ['He is good boy', 'He is an awesome player', 'She is the best', 'These burgers are really nice']\n",
      "Negative:\n",
      " ['Food is worst here', 'The pizza tastes awful']\n"
     ]
    }
   ],
   "source": [
    "#Question 1:\n",
    "positive=['good','best','awesome','nice']\n",
    "negative=['worst','awful']\n",
    "p=[]\n",
    "n=[]\n",
    "comments=['He is good boy','Food is worst here','He is an awesome player','She is the best','The pizza tastes awful','These burgers are really nice']\n",
    "\n",
    "#Segregation\n",
    "for j in range(0,1):    \n",
    "    for i in range(0,len(comments)):\n",
    "        if positive[j] in comments[i] or positive[j+1] in comments[i] or positive[j+2] in comments[i] or positive[j+3] in comments[i]:\n",
    "            p.append(comments[i])\n",
    "        elif negative[j] in comments[i] or negative[j+1] in comments[i]:\n",
    "            n.append(comments[i])\n",
    "#Positive Sentiments-display\n",
    "print(\"Positive:\\n\",p)\n",
    "\n",
    "#Negative Sentiments-display\n",
    "print(\"Negative:\\n\",n)"
   ]
  },
  {
   "cell_type": "code",
   "execution_count": 74,
   "id": "8c1a915f",
   "metadata": {},
   "outputs": [
    {
     "name": "stdout",
     "output_type": "stream",
     "text": [
      "2\n",
      "13.414213562373096\n"
     ]
    }
   ],
   "source": [
    "#Question 2:\n",
    "\n",
    "def add(n):\n",
    "    d = {'Square': lambda a : a**2, \n",
    "         'Cube': lambda a : a**3, \n",
    "         'Squareroot': lambda a : a**(1/2), \n",
    "         }\n",
    "    sum = 0\n",
    "    for key in d.keys():\n",
    "        sum += d[key](n)\n",
    "    return sum\n",
    "\n",
    "#Get Input From user\n",
    "x=int(input())\n",
    "print(add(x))"
   ]
  },
  {
   "cell_type": "code",
   "execution_count": 86,
   "id": "0f476712",
   "metadata": {},
   "outputs": [
    {
     "name": "stdout",
     "output_type": "stream",
     "text": [
      "['Lemon', 'Grapes', 'Kiwi', 'Orange', 'Limes']\n"
     ]
    }
   ],
   "source": [
    "#Question 3:\n",
    "fruits = (\n",
    "('Lemon', 'sour'),\n",
    "('DragonFruit', 'Sweet'),\n",
    "('Grapes', 'soUr'),\n",
    "('Kiwi', 'Sour'),\n",
    "('Apples', 'sweet'),\n",
    "('Orange','sour'),\n",
    "('Blueberries','sweet'),\n",
    "('Limes','Sour')\n",
    ")\n",
    "\n",
    "out=[]\n",
    "arr=[]\n",
    "\n",
    "#Filtering\n",
    "for i in range (len(fruits)):\n",
    "    if 'sour' in fruits[i] or 'Sour' in fruits[i] or 'soUr' in fruits[i] :\n",
    "        out.append(fruits[i])\n",
    "for j in range (len(out)):\n",
    "    arr.append(out[j][0])\n",
    "print(\"Sour Fruits:\",arr)"
   ]
  },
  {
   "cell_type": "code",
   "execution_count": 21,
   "id": "3d79a4f7",
   "metadata": {},
   "outputs": [
    {
     "name": "stdout",
     "output_type": "stream",
     "text": [
      "['hOw', 'ARe']\n"
     ]
    }
   ],
   "source": [
    "#Question 4:\n",
    "ls=['hello','hOw','Dear','ARe','You']\n",
    "d=[]\n",
    "\n",
    "for i in range(0,len(ls)):\n",
    "    s=ls[i]\n",
    "    if s[1].isupper():\n",
    "        d.append(s)\n",
    "print(d)\n"
   ]
  },
  {
   "cell_type": "code",
   "execution_count": 93,
   "id": "8f3a2109",
   "metadata": {},
   "outputs": [
    {
     "ename": "TypeError",
     "evalue": "'function' object is not iterable",
     "output_type": "error",
     "traceback": [
      "\u001b[1;31m---------------------------------------------------------------------------\u001b[0m",
      "\u001b[1;31mTypeError\u001b[0m                                 Traceback (most recent call last)",
      "\u001b[1;32m~\\AppData\\Local\\Temp/ipykernel_504/1361766675.py\u001b[0m in \u001b[0;36m<module>\u001b[1;34m\u001b[0m\n\u001b[0;32m      7\u001b[0m \u001b[0mGEarth\u001b[0m \u001b[1;33m=\u001b[0m \u001b[1;36m9.81\u001b[0m\u001b[1;33m\u001b[0m\u001b[1;33m\u001b[0m\u001b[0m\n\u001b[0;32m      8\u001b[0m \u001b[1;32mfor\u001b[0m \u001b[0mwEarth\u001b[0m \u001b[1;32min\u001b[0m \u001b[0mWeightOnEarth\u001b[0m\u001b[1;33m:\u001b[0m\u001b[1;33m\u001b[0m\u001b[1;33m\u001b[0m\u001b[0m\n\u001b[1;32m----> 9\u001b[1;33m   \u001b[0mwMoon\u001b[0m \u001b[1;33m=\u001b[0m\u001b[0mmap\u001b[0m\u001b[1;33m(\u001b[0m\u001b[0mint\u001b[0m\u001b[1;33m,\u001b[0m\u001b[1;32mlambda\u001b[0m \u001b[0ma\u001b[0m \u001b[1;33m:\u001b[0m\u001b[1;33m(\u001b[0m\u001b[0mwEarth\u001b[0m\u001b[1;33m*\u001b[0m\u001b[0mGMoon\u001b[0m\u001b[1;33m)\u001b[0m\u001b[1;33m/\u001b[0m\u001b[0mGEarth\u001b[0m\u001b[1;33m)\u001b[0m\u001b[1;33m\u001b[0m\u001b[1;33m\u001b[0m\u001b[0m\n\u001b[0m",
      "\u001b[1;31mTypeError\u001b[0m: 'function' object is not iterable"
     ]
    }
   ],
   "source": [
    "#Question 5:\n",
    "#Weight of people in kg\n",
    "WeightOnEarth = {'John':45, 'Shelly':65, 'Marry':35}\n",
    "# Gravitational force on the Moon:\n",
    "GMoon = 1.622\n",
    "# Gravitational force on the Earth:\n",
    "GEarth = 9.81\n",
    "for wEarth in WeightOnEarth:\n",
    "  wMoon =map(int,lambda a :(wEarth*GMoon)/GEarth)\n"
   ]
  },
  {
   "cell_type": "code",
   "execution_count": 78,
   "id": "508efdea",
   "metadata": {},
   "outputs": [
    {
     "name": "stdout",
     "output_type": "stream",
     "text": [
      "['Maria', 'Hello', 'World', 'Marry', 'You']\n"
     ]
    }
   ],
   "source": [
    "#Question 6:\n",
    "nameList=['santa Maria','Hello World','Marry christmas','tHank You']\n",
    "n1=[]\n",
    "out=[]\n",
    "\n",
    "for i in nameList:\n",
    "  n1.append(i.split(' ')[0])\n",
    "  n1.append(i.split(' ')[1])\n",
    "    \n",
    "for i in n1:\n",
    "    if i[0].isupper():\n",
    "      out.append(i)\n",
    "    \n",
    "print(out)"
   ]
  },
  {
   "cell_type": "code",
   "execution_count": 88,
   "id": "cd7a8943",
   "metadata": {},
   "outputs": [
    {
     "name": "stdout",
     "output_type": "stream",
     "text": [
      "Output: {8, 3}\n"
     ]
    }
   ],
   "source": [
    "#Question 7:\n",
    "from functools import reduce\n",
    "given_sets = [[1, 2, 3, 4, 8], [2, 3, 8, 5, 6], [8, 4, 5, 3, 7], [6, 9, 8, 3], [9,\n",
    "12, 3, 7, 6, 8, 4, 6, 21, 1, 6]]\n",
    "\n",
    "out=set(given_sets[0]).intersection(*given_sets)\n",
    "print(\"Output:\",out)"
   ]
  },
  {
   "cell_type": "code",
   "execution_count": 9,
   "id": "77b499b7",
   "metadata": {},
   "outputs": [
    {
     "name": "stdout",
     "output_type": "stream",
     "text": [
      "[9, 8.5, 8.0, 7.5, 7.0]\n"
     ]
    }
   ],
   "source": [
    "#Question 8:\n",
    "import itertools as it\n",
    "\n",
    "a= [9,8,7,6,5]\n",
    "l=[]\n",
    "\n",
    "l = it.accumulate(list(enumerate(a)), lambda x,y: (y[0], (x[1]*(x[0]+1) + y[1])/(y[0]+1)))\n",
    "print(list(map(lambda x: x[1], l)))"
   ]
  },
  {
   "cell_type": "code",
   "execution_count": 26,
   "id": "be84a406",
   "metadata": {},
   "outputs": [
    {
     "name": "stdout",
     "output_type": "stream",
     "text": [
      "['TRUE', 'FALSE', 'TRUE', 'TRUE', 'FALSE', 'FALSE']\n"
     ]
    }
   ],
   "source": [
    "#Question 9:\n",
    "Isbool=['True','FALse','tRUe','tRue','False','faLse']\n",
    "s=map(lambda x:x.upper(),Isbool)\n",
    "print(list(s))"
   ]
  },
  {
   "cell_type": "code",
   "execution_count": 87,
   "id": "796ae7ee",
   "metadata": {},
   "outputs": [
    {
     "name": "stdout",
     "output_type": "stream",
     "text": [
      "['1997', '2011', '1993', '2020']\n"
     ]
    }
   ],
   "source": [
    "#Question 10:\n",
    "import datetime\n",
    "\n",
    "d=['17-12-1997','22-04-2011','01-05-1993','19-06-2020']\n",
    "l=[]\n",
    "\n",
    "for i in d:\n",
    "    date = datetime.datetime.strptime(i, \"%d-%m-%Y\")\n",
    "    l.append(str(date.year))\n",
    "print(l)"
   ]
  }
 ],
 "metadata": {
  "kernelspec": {
   "display_name": "Python 3 (ipykernel)",
   "language": "python",
   "name": "python3"
  },
  "language_info": {
   "codemirror_mode": {
    "name": "ipython",
    "version": 3
   },
   "file_extension": ".py",
   "mimetype": "text/x-python",
   "name": "python",
   "nbconvert_exporter": "python",
   "pygments_lexer": "ipython3",
   "version": "3.9.7"
  }
 },
 "nbformat": 4,
 "nbformat_minor": 5
}

