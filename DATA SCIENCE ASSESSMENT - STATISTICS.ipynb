{
 "cells": [
  {
   "cell_type": "code",
   "execution_count": 12,
   "id": "a48de832",
   "metadata": {},
   "outputs": [
    {
     "name": "stdout",
     "output_type": "stream",
     "text": [
      "The probability that the number of pizza sales exceeds 80 in a day is : 0.7020046649522909\n"
     ]
    }
   ],
   "source": [
    "#Question 9:\n",
    "from scipy import stats\n",
    "\n",
    "Prob= stats.poisson.cdf(80,76)\n",
    "print(\"The probability that the number of pizza sales exceeds 80 in a day is :\",Prob)"
   ]
  },
  {
   "cell_type": "code",
   "execution_count": 9,
   "id": "4d9b1f43",
   "metadata": {},
   "outputs": [
    {
     "name": "stdout",
     "output_type": "stream",
     "text": [
      "            City  No_of_deaths_in_last_month  No_of_deaths_in_current_month\n",
      "0       New York                        3406                           4398\n",
      "1     New Jersey                        1469                           1846\n",
      "2       Michigan                         662                           1288\n",
      "3     California                         583                            382\n",
      "4        Florida                         582                            879\n",
      "5  Massachusetts                         526                            430\n",
      "6          Texas                         461                            321\n",
      "Predicted_scientist [4427.8, 1909.7, 860.6, 757.9, 756.6, 683.8, 599.3]\n",
      "Actual death value  [4398, 1846, 1288, 382, 879, 430, 321]\n",
      "Difference b/w Predicted and Current [ 29.8  63.7 427.4 375.9 122.4 253.8 278.3]\n",
      "signicance of 0.1 [340.6, 146.9, 66.2, 58.300000000000004, 58.2, 52.6, 46.1]\n"
     ]
    }
   ],
   "source": [
    "#Question 12:\n",
    "import pandas as pd\n",
    "import numpy as np\n",
    "\n",
    "City = [\"New York\", \"New Jersey\", \"Michigan\", \"California\", \"Florida\", \"Massachusetts\", \"Texas\"]\n",
    "No_of_deaths_in_last_month = [3406, 1469, 662, 583, 582, 526, 461]\n",
    "No_of_deaths_in_current_month = [4398, 1846, 1288, 382, 879, 430, 321]\n",
    "df = pd.DataFrame({\"City\": City, \"No_of_deaths_in_last_month\":No_of_deaths_in_last_month, \"No_of_deaths_in_current_month\": No_of_deaths_in_current_month})\n",
    "print(df)\n",
    "\n",
    "pred=[]\n",
    "signi=[]\n",
    "\n",
    "for i in No_of_deaths_in_last_month:\n",
    "    pred.append((0.30*i)+i)\n",
    "    signi.append(0.1*i)\n",
    "print(\"Predicted_scientist\",pred)\n",
    "print(\"Actual death value \",No_of_deaths_in_current_month)\n",
    "\n",
    "\n",
    "#difference between Actual and predicted\n",
    "\n",
    "n_pred=np.array(pred)\n",
    "n_No_of_deaths_in_current_month=np.array(No_of_deaths_in_current_month)\n",
    "\n",
    "diff=np.absolute(n_No_of_deaths_in_current_month-n_pred)\n",
    "\n",
    "print(\"Difference b/w Predicted and Current\",diff)\n",
    "print(\"Signicance as 0.1\",signi)"
   ]
  },
  {
   "cell_type": "code",
   "execution_count": null,
   "id": "dd232eee",
   "metadata": {},
   "outputs": [],
   "source": []
  }
 ],
 "metadata": {
  "kernelspec": {
   "display_name": "Python 3 (ipykernel)",
   "language": "python",
   "name": "python3"
  },
  "language_info": {
   "codemirror_mode": {
    "name": "ipython",
    "version": 3
   },
   "file_extension": ".py",
   "mimetype": "text/x-python",
   "name": "python",
   "nbconvert_exporter": "python",
   "pygments_lexer": "ipython3",
   "version": "3.9.7"
  }
 },
 "nbformat": 4,
 "nbformat_minor": 5
}
